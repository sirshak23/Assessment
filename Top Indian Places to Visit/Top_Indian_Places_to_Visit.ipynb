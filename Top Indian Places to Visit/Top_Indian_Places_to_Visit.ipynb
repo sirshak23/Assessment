{
  "nbformat": 4,
  "nbformat_minor": 0,
  "metadata": {
    "colab": {
      "provenance": []
    },
    "kernelspec": {
      "name": "python3",
      "display_name": "Python 3"
    },
    "language_info": {
      "name": "python"
    }
  },
  "cells": [
    {
      "cell_type": "code",
      "source": [
        "import pandas as pd\n",
        "\n",
        "def rank_places(df, city_name, top_n=10):\n",
        "    \"\"\"Rank places to visit based on rating and popularity for a given city.\"\"\"\n",
        "    city_df = df[df['City'].str.lower() == city_name.lower()]\n",
        "\n",
        "    if city_df.empty:\n",
        "        print(f\"No data found for city: {city_name}\")\n",
        "        return None\n",
        "\n",
        "    # Ranking based on rating and number of reviews\n",
        "    city_df['Score'] = city_df['Google review rating'] * city_df['Number of google review in lakhs']\n",
        "    return city_df.sort_values(by='Score', ascending=False).head(top_n)[['Name', 'Type', 'Google review rating', 'Number of google review in lakhs', 'Best Time to visit']]\n",
        "\n",
        "if __name__ == \"__main__\":\n",
        "    # Load the data\n",
        "    df = pd.read_csv(\"Top Indian Places to Visit.csv\")\n",
        "    city = input(\"Enter your city: \")\n",
        "\n",
        "    top_places = rank_places(df, city)\n",
        "\n",
        "    if top_places is not None:\n",
        "        print(\"\\nTop Recommended Places:\")\n",
        "        print(top_places.to_string(index=False))\n",
        "\n",
        "\n",
        "\n"
      ],
      "metadata": {
        "colab": {
          "base_uri": "https://localhost:8080/"
        },
        "id": "FWjdCbW-MMLR",
        "outputId": "114f1487-92d0-42da-ce71-288479f8f33d"
      },
      "execution_count": 14,
      "outputs": [
        {
          "output_type": "stream",
          "name": "stdout",
          "text": [
            "Enter your city: mumbai\n",
            "\n",
            "Top Recommended Places:\n",
            "                                          Name             Type  Google review rating  Number of google review in lakhs Best Time to visit\n",
            "                              Gateway of India         Monument                   4.6                              3.60                All\n",
            "                                  Marine Drive        Promenade                   4.5                              1.50            Evening\n",
            "                          Siddhivinayak Temple           Temple                   4.8                              1.05                All\n",
            "                   Sanjay Gandhi National Park    National Park                   4.3                              0.60                All\n",
            "Chhatrapati Shivaji Maharaj Vastu Sangrahalaya           Museum                   4.6                              0.34                All\n",
            "                              Mahalaxmi Temple           Temple                   4.7                              0.33                All\n",
            "                               Elephanta Caves         Monument                   4.3                              0.35               All \n",
            "                                   Essel World   Amusement Park                   4.3                              0.27                All\n",
            "                               Haji Ali Dargah Religious Shrine                   4.4                              0.16                All\n",
            "                               Chowpatty Beach            Beach                   4.3                              0.05            Evening\n"
          ]
        },
        {
          "output_type": "stream",
          "name": "stderr",
          "text": [
            "<ipython-input-14-e60731a1cd4e>:12: SettingWithCopyWarning: \n",
            "A value is trying to be set on a copy of a slice from a DataFrame.\n",
            "Try using .loc[row_indexer,col_indexer] = value instead\n",
            "\n",
            "See the caveats in the documentation: https://pandas.pydata.org/pandas-docs/stable/user_guide/indexing.html#returning-a-view-versus-a-copy\n",
            "  city_df['Score'] = city_df['Google review rating'] * city_df['Number of google review in lakhs']\n"
          ]
        }
      ]
    }
  ]
}